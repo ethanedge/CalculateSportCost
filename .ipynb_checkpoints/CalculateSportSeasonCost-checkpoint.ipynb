{
 "cells": [
  {
   "cell_type": "code",
   "execution_count": 6,
   "id": "d3bf3559",
   "metadata": {},
   "outputs": [],
   "source": [
    "# How many people are paying for this round?\n",
    "def howManyToPay(peopleDict):\n",
    "    toPay = 0\n",
    "    for name in peopleDict:\n",
    "        if peopleDict[name][leaveIndex] == 0:\n",
    "            toPay += 1\n",
    "    return toPay"
   ]
  },
  {
   "cell_type": "code",
   "execution_count": 7,
   "id": "9e79f565",
   "metadata": {},
   "outputs": [
    {
     "name": "stdout",
     "output_type": "stream",
     "text": [
      "- I will have paid \u001b[1m$70.77\u001b[0m overall\n",
      "- \u001b[1mRiley\u001b[0m owes me \u001b[1m$86.14\n",
      "- \u001b[1mBridget\u001b[0m owes me \u001b[1m$57.61\n",
      "- \u001b[1mRachel\u001b[0m owes me \u001b[1m$141.44\n",
      "- \u001b[1mElla\u001b[0m owes me \u001b[1m$141.44\n",
      "- \u001b[1mBen\u001b[0m owes me \u001b[1m$141.44\n",
      "- \u001b[1mJack\u001b[0m owes me \u001b[1m$141.44\n",
      "- \u001b[1mLily\u001b[0m owes me \u001b[1m$141.44\n"
     ]
    }
   ],
   "source": [
    "# The dictionary of all the players paired with a list that includes their leave number and pay amount.\n",
    "# At index leaveIndex - how many games that person did NOT play. 0 means they will pay for every game.\n",
    "# At index payIndex - the player's required payment at the end of the season. Starts at $0.\n",
    "peopleDict = {'Ethan': [4, 0], 'Riley': [3, 0], 'Bridget': [5, 0], 'Rachel': [0, 0], 'Ella': [0, 0], \n",
    "              'Ben': [0, 0], 'Jack': [0, 0], 'Lily': [0, 0]}\n",
    "leaveIndex = 0\n",
    "payIndex = 1\n",
    "\n",
    "gameCost = 92.17\n",
    "regoCost = 92.17\n",
    "numGames = 9\n",
    "numPeople = len(peopleDict)\n",
    "me = \"Ethan\" # Your name (assuming people will be paying you) and you are also in the team\n",
    "\n",
    "# Splitting the team registration cost evenely amongst all players\n",
    "for name in peopleDict:\n",
    "    portion = regoCost/numPeople\n",
    "    peopleDict[name][payIndex] += portion\n",
    "\n",
    "# Splitting the cost of all the game fees amongst the players, based on\n",
    "for i in range(numGames):\n",
    "    \n",
    "    toPayCount = howManyToPay(peopleDict)\n",
    "    portion = gameCost/toPayCount\n",
    "    \n",
    "    for name in peopleDict:\n",
    "        if peopleDict[name][leaveIndex] != 0:\n",
    "            peopleDict[name][leaveIndex] -= 1\n",
    "        else:\n",
    "            peopleDict[name][payIndex] += portion\n",
    "\n",
    "# Print amounts that people owe you\n",
    "for name in peopleDict:\n",
    "    cost = round(peopleDict[name][payIndex], 2)\n",
    "    if name == me:\n",
    "        print(f\"- I will have paid \\033[1m${cost}\\033[0m overall\")\n",
    "    else:\n",
    "        print(f\"- \\033[1m{name}\\033[0m owes me \\033[1m${cost}\")"
   ]
  },
  {
   "cell_type": "code",
   "execution_count": null,
   "id": "61ab5ea0",
   "metadata": {},
   "outputs": [],
   "source": []
  }
 ],
 "metadata": {
  "kernelspec": {
   "display_name": "Python 3 (ipykernel)",
   "language": "python",
   "name": "python3"
  },
  "language_info": {
   "codemirror_mode": {
    "name": "ipython",
    "version": 3
   },
   "file_extension": ".py",
   "mimetype": "text/x-python",
   "name": "python",
   "nbconvert_exporter": "python",
   "pygments_lexer": "ipython3",
   "version": "3.11.4"
  }
 },
 "nbformat": 4,
 "nbformat_minor": 5
}
