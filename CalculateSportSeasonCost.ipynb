{
 "cells": [
  {
   "cell_type": "code",
   "execution_count": 23,
   "id": "87d2e3f8",
   "metadata": {},
   "outputs": [],
   "source": [
    "# How many people are paying for this round?\n",
    "def howManyToPay(leaveDict):\n",
    "    toPay = 0\n",
    "    for name in leaveDict:\n",
    "        if leaveDict[name] == 0:\n",
    "            toPay += 1\n",
    "    return toPay\n"
   ]
  },
  {
   "cell_type": "code",
   "execution_count": 34,
   "id": "3c24a8e1",
   "metadata": {},
   "outputs": [
    {
     "name": "stdout",
     "output_type": "stream",
     "text": [
      "- I will have paid \u001b[1m$70.77\u001b[0m overall\n",
      "- \u001b[1mRiley\u001b[0m owes me \u001b[1m$86.14\n",
      "- \u001b[1mBridget\u001b[0m owes me \u001b[1m$57.61\n",
      "- \u001b[1mRachel\u001b[0m owes me \u001b[1m$141.44\n",
      "- \u001b[1mElla\u001b[0m owes me \u001b[1m$141.44\n",
      "- \u001b[1mBen\u001b[0m owes me \u001b[1m$141.44\n",
      "- \u001b[1mJack\u001b[0m owes me \u001b[1m$141.44\n",
      "- \u001b[1mLily\u001b[0m owes me \u001b[1m$141.44\n"
     ]
    }
   ],
   "source": [
    "leaveDict = {'Ethan': 4, 'Riley': 3, 'Bridget': 5, 'Rachel': 0, 'Ella': 0, 'Ben': 0, 'Jack': 0, 'Lily': 0}\n",
    "payDict = {'Ethan': 0, 'Riley': 0, 'Bridget': 0, 'Rachel': 0, 'Ella': 0, 'Ben': 0, 'Jack': 0, 'Lily': 0}\n",
    "\n",
    "gameCost = 92.17\n",
    "regoCost = 92.17\n",
    "numGames = 9\n",
    "numPeople = len(leaveDict)\n",
    "me = \"Ethan\" # Your name (assuming people will be paying you) and you are also in the team\n",
    "\n",
    "# Splitting the team registration cost evenely amongst all players\n",
    "for name in payDict:\n",
    "    portion = regoCost/numPeople\n",
    "    payDict[name] += portion\n",
    "\n",
    "# Splitting the cost of all the game fees amongst the players, based on\n",
    "for i in range(numGames):\n",
    "    \n",
    "    toPayCount = howManyToPay(leaveDict)\n",
    "    portion = gameCost/toPayCount\n",
    "    \n",
    "    for name in leaveDict:\n",
    "        if leaveDict[name] != 0:\n",
    "            leaveDict[name] -= 1\n",
    "        else:\n",
    "            payDict[name] += portion\n",
    "\n",
    "# Print amounts\n",
    "for name in payDict:\n",
    "    cost = round(payDict[name], 2)\n",
    "    if name == me:\n",
    "        print(f\"- I will have paid \\033[1m${cost}\\033[0m overall\")\n",
    "    else:\n",
    "        print(f\"- \\033[1m{name}\\033[0m owes me \\033[1m${cost}\")"
   ]
  },
  {
   "cell_type": "code",
   "execution_count": null,
   "id": "d3bf3559",
   "metadata": {},
   "outputs": [],
   "source": []
  }
 ],
 "metadata": {
  "kernelspec": {
   "display_name": "Python 3 (ipykernel)",
   "language": "python",
   "name": "python3"
  },
  "language_info": {
   "codemirror_mode": {
    "name": "ipython",
    "version": 3
   },
   "file_extension": ".py",
   "mimetype": "text/x-python",
   "name": "python",
   "nbconvert_exporter": "python",
   "pygments_lexer": "ipython3",
   "version": "3.11.4"
  }
 },
 "nbformat": 4,
 "nbformat_minor": 5
}
